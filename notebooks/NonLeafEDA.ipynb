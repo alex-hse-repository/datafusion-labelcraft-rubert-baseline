{
 "cells": [
  {
   "cell_type": "code",
   "execution_count": 1,
   "id": "b58d1af4-3f63-4760-a8e1-08a671c35fb4",
   "metadata": {},
   "outputs": [],
   "source": [
    "import pandas as pd\n",
    "from src.category_tree.category_tree import CategoryTree\n",
    "\n",
    "CAT_PATH = \"../data/category_tree.csv\"\n",
    "TRAIN_LABELED_PATH = \"../data/labeled_train.parquet\"\n",
    "\n",
    "CAT_ID_COL = \"cat_id\"\n",
    "TITLE_COL = \"source_name\""
   ]
  },
  {
   "cell_type": "code",
   "execution_count": 2,
   "id": "5ede2f3f-7a9f-4444-b2c4-110851012504",
   "metadata": {},
   "outputs": [],
   "source": [
    "df = pd.read_parquet(TRAIN_LABELED_PATH, columns=[TITLE_COL, CAT_ID_COL])\n",
    "category_tree = CategoryTree(category_tree_path=CAT_PATH)"
   ]
  },
  {
   "cell_type": "markdown",
   "id": "dfe1eb49-1e8e-477c-a911-727d4c52a38d",
   "metadata": {},
   "source": [
    "# Средняя степень предка листа\n",
    "\n",
    "Для каждого предка листа посчитаем степень вершины(количество листев-соседей)\n",
    "\n",
    "Видно, что в среднем листев не очень много(порядка 1-4)"
   ]
  },
  {
   "cell_type": "code",
   "execution_count": 3,
   "id": "1f76e7c3-912b-44c0-a8cd-ac902ff07344",
   "metadata": {},
   "outputs": [],
   "source": [
    "import networkx as nx\n",
    "import numpy as np\n",
    "import seaborn as sns"
   ]
  },
  {
   "cell_type": "code",
   "execution_count": 4,
   "id": "69fe9e0f-659b-460a-b49f-2e890d245636",
   "metadata": {},
   "outputs": [],
   "source": [
    "cat_tree = category_tree._category_tree_graph\n",
    "\n",
    "leaf_parent_nodes = []\n",
    "for node in cat_tree.nodes:\n",
    "    if node not in category_tree.leaf_nodes:\n",
    "        if (set(nx.neighbors(cat_tree, node)) & set(category_tree.leaf_nodes)) == set(nx.neighbors(cat_tree, node)):\n",
    "            leaf_parent_nodes.append(node)\n"
   ]
  },
  {
   "cell_type": "code",
   "execution_count": 5,
   "id": "1ead5d9e-5fae-440a-8e44-1ef9e006f301",
   "metadata": {},
   "outputs": [
    {
     "data": {
      "text/plain": [
       "(1406, 1897)"
      ]
     },
     "execution_count": 5,
     "metadata": {},
     "output_type": "execute_result"
    }
   ],
   "source": [
    "len(category_tree.leaf_nodes), len(cat_tree.nodes)"
   ]
  },
  {
   "cell_type": "code",
   "execution_count": 6,
   "id": "b8bd99b4-78d2-4fec-ab09-e952e7299192",
   "metadata": {},
   "outputs": [
    {
     "data": {
      "text/plain": [
       "337"
      ]
     },
     "execution_count": 6,
     "metadata": {},
     "output_type": "execute_result"
    }
   ],
   "source": [
    "len(leaf_parent_nodes)"
   ]
  },
  {
   "cell_type": "code",
   "execution_count": 7,
   "id": "7a0a036c-62d6-487b-a757-3cd87bdc18ff",
   "metadata": {},
   "outputs": [
    {
     "data": {
      "text/plain": [
       "(2.878338278931751, 1, 13, 7.0)"
      ]
     },
     "execution_count": 7,
     "metadata": {},
     "output_type": "execute_result"
    }
   ],
   "source": [
    "degrees = [cat_tree.out_degree(node) for node in leaf_parent_nodes]\n",
    "np.mean(degrees), np.min(degrees), np.max(degrees), np.quantile(degrees, 0.95)"
   ]
  },
  {
   "cell_type": "code",
   "execution_count": 8,
   "id": "106567f3-d415-4805-97e2-94b0675eba3e",
   "metadata": {},
   "outputs": [
    {
     "data": {
      "text/plain": [
       "<Axes: ylabel='Count'>"
      ]
     },
     "execution_count": 8,
     "metadata": {},
     "output_type": "execute_result"
    },
    {
     "data": {
      "image/png": "[encoded data removed]",
      "text/plain": [
       "<Figure size 640x480 with 1 Axes>"
      ]
     },
     "metadata": {},
     "output_type": "display_data"
    }
   ],
   "source": [
    "sns.histplot(degrees)"
   ]
  },
  {
   "cell_type": "markdown",
   "id": "cffa869b-3cf4-4bb2-89a5-552ccb8d21dd",
   "metadata": {},
   "source": [
    "# Средняя степень предка листа(если у предка есть соседи нелистья)\n",
    "\n",
    "У части вершин есть соседи разных типов (листь и \"нелистья\") -- посмотрим сколько листьев из них достижимо\n",
    "\n",
    "Видно, что в таких кейсах можно получаем давольно много листьев соседей"
   ]
  },
  {
   "cell_type": "code",
   "execution_count": 9,
   "id": "76f377b8-1e42-4fdc-af92-b9fc10189a19",
   "metadata": {},
   "outputs": [],
   "source": [
    "def count_reachable_leafs(graph):\n",
    "    leaf_nodes = [node for node in graph.nodes if graph.out_degree(node) == 0]\n",
    "    leaf_count = {}\n",
    "    \n",
    "    def dfs(node):\n",
    "        if node in leaf_count:\n",
    "            return leaf_count[node]\n",
    "      \n",
    "        if graph.out_degree(node) == 0:\n",
    "            leaf_count[node] = 1\n",
    "            return 1\n",
    "        \n",
    "        total_leafs = 0\n",
    "        for child in graph.successors(node):\n",
    "            total_leafs += dfs(child)\n",
    "        \n",
    "        leaf_count[node] = total_leafs\n",
    "        return total_leafs\n",
    "    \n",
    "    for node in graph.nodes:\n",
    "        if node not in leaf_count:\n",
    "            dfs(node)\n",
    "    \n",
    "    return leaf_count"
   ]
  },
  {
   "cell_type": "code",
   "execution_count": 10,
   "id": "6df66677-40f6-4dd8-9ba4-e3b97cb882a6",
   "metadata": {},
   "outputs": [],
   "source": [
    "leaf_parent_nodes_mixed = []\n",
    "for node in cat_tree.nodes:\n",
    "    if node not in category_tree.leaf_nodes:\n",
    "        if len(set(nx.neighbors(cat_tree, node)) & set(category_tree.leaf_nodes)) != 0:\n",
    "            if (set(nx.neighbors(cat_tree, node)) & set(category_tree.leaf_nodes)) < set(nx.neighbors(cat_tree, node)):\n",
    "                leaf_parent_nodes_mixed.append(node)"
   ]
  },
  {
   "cell_type": "code",
   "execution_count": 11,
   "id": "553957df-fdbf-4498-b5e4-5cc75fad4dc4",
   "metadata": {},
   "outputs": [],
   "source": [
    "reachable_leafs_cnts = count_reachable_leafs(cat_tree)"
   ]
  },
  {
   "cell_type": "code",
   "execution_count": 12,
   "id": "d127943c-ee2b-4809-9742-061821769d08",
   "metadata": {},
   "outputs": [],
   "source": [
    "assert reachable_leafs_cnts[category_tree.leaf_nodes[0]] == 1"
   ]
  },
  {
   "cell_type": "code",
   "execution_count": 13,
   "id": "cb1923c0-366c-46e5-afb3-8370828451e3",
   "metadata": {},
   "outputs": [],
   "source": [
    "assert reachable_leafs_cnts[0] == len(category_tree.leaf_nodes)"
   ]
  },
  {
   "cell_type": "code",
   "execution_count": 14,
   "id": "65f835dd-b39d-4fc1-933e-e0d510cdd966",
   "metadata": {},
   "outputs": [
    {
     "name": "stdout",
     "output_type": "stream",
     "text": [
      "16.387096774193548 2 186 47.69999999999999\n"
     ]
    },
    {
     "data": {
      "text/plain": [
       "<Axes: ylabel='Count'>"
      ]
     },
     "execution_count": 14,
     "metadata": {},
     "output_type": "execute_result"
    },
    {
     "data": {
      "image/png": "[encoded data removed]",
      "text/plain": [
       "<Figure size 640x480 with 1 Axes>"
      ]
     },
     "metadata": {},
     "output_type": "display_data"
    }
   ],
   "source": [
    "parent_degrees_mixed = [reachable_leafs_cnts[node] for node in leaf_parent_nodes_mixed]\n",
    "print(np.mean(parent_degrees_mixed), np.min(parent_degrees_mixed), np.max(parent_degrees_mixed), np.quantile(parent_degrees_mixed, 0.95))\n",
    "sns.histplot(parent_degrees_mixed)"
   ]
  },
  {
   "cell_type": "markdown",
   "id": "36f60529-8824-4a6c-89a7-a0c442f898b4",
   "metadata": {},
   "source": [
    "# Количество листов у нелистовых вершин\n",
    "В выборке есть 100k примеров с нелистовой разметкой:\n",
    "- 61 уникальных вершин\n",
    "- 44 -- вершины с соседями-листями\n",
    "- 13 -- вершины со смешанными соседями\n",
    "- По большей части степени не такие большие(90 квантиль = 13)\n",
    "- (80k) Для вершины с соседями-листями статистики зорошие (2-5 соседа) -- можно просто размазать лэйбл\n",
    "- (20k) Для вершины со смешанными соседями опасно размазывать лэйблы"
   ]
  },
  {
   "cell_type": "code",
   "execution_count": 15,
   "id": "48cba6a7-5ac1-4f2e-a553-3d9209c6065d",
   "metadata": {},
   "outputs": [],
   "source": [
    "df_non_leaf = df[~df[CAT_ID_COL].isin(category_tree.leaf_nodes)]"
   ]
  },
  {
   "cell_type": "code",
   "execution_count": 16,
   "id": "9aa21b78-aa8b-441d-8e3c-063761999d23",
   "metadata": {},
   "outputs": [
    {
     "data": {
      "text/plain": [
       "(101651, 2)"
      ]
     },
     "execution_count": 16,
     "metadata": {},
     "output_type": "execute_result"
    }
   ],
   "source": [
    "df_non_leaf.shape"
   ]
  },
  {
   "cell_type": "code",
   "execution_count": 17,
   "id": "8e1e80a6-523f-4e17-827e-e73811bc8967",
   "metadata": {},
   "outputs": [
    {
     "data": {
      "text/plain": [
       "61"
      ]
     },
     "execution_count": 17,
     "metadata": {},
     "output_type": "execute_result"
    }
   ],
   "source": [
    "non_leaf_cats = df_non_leaf[CAT_ID_COL].unique().tolist()\n",
    "len(non_leaf_cats)"
   ]
  },
  {
   "cell_type": "code",
   "execution_count": 18,
   "id": "830ce5db-83cc-4087-88d4-b2bf17c535d7",
   "metadata": {},
   "outputs": [
    {
     "data": {
      "text/plain": [
       "(44, 13)"
      ]
     },
     "execution_count": 18,
     "metadata": {},
     "output_type": "execute_result"
    }
   ],
   "source": [
    "len(set(non_leaf_cats) & set(leaf_parent_nodes)), len(set(non_leaf_cats) & set(leaf_parent_nodes_mixed)) "
   ]
  },
  {
   "cell_type": "code",
   "execution_count": 19,
   "id": "2b312753-c89e-43d3-bf85-d7dadf64386a",
   "metadata": {},
   "outputs": [
    {
     "data": {
      "text/plain": [
       "<Axes: ylabel='Count'>"
      ]
     },
     "execution_count": 19,
     "metadata": {},
     "output_type": "execute_result"
    },
    {
     "data": {
      "image/png": "[encoded data removed]",
      "text/plain": [
       "<Figure size 640x480 with 1 Axes>"
      ]
     },
     "metadata": {},
     "output_type": "display_data"
    }
   ],
   "source": [
    "pure_non_leaf_cats = set(non_leaf_cats) & set(leaf_parent_nodes)\n",
    "degrees_pure = [reachable_leafs_cnts[node] for node in pure_non_leaf_cats]\n",
    "sns.histplot(degrees_pure)"
   ]
  },
  {
   "cell_type": "code",
   "execution_count": 20,
   "id": "1371edb0-6585-47f2-be33-8a0a6b96f896",
   "metadata": {},
   "outputs": [
    {
     "data": {
      "text/plain": [
       "array([2.  , 5.  , 5.85, 7.71])"
      ]
     },
     "execution_count": 20,
     "metadata": {},
     "output_type": "execute_result"
    }
   ],
   "source": [
    "np.quantile(degrees_pure, q=[0.5, 0.9, 0.95, 0.99])"
   ]
  },
  {
   "cell_type": "code",
   "execution_count": 21,
   "id": "4231f4c3-444c-4366-ba4f-608984b5457f",
   "metadata": {},
   "outputs": [
    {
     "data": {
      "text/plain": [
       "<Axes: ylabel='Count'>"
      ]
     },
     "execution_count": 21,
     "metadata": {},
     "output_type": "execute_result"
    },
    {
     "data": {
      "image/png": "[encoded data removed]",
      "text/plain": [
       "<Figure size 640x480 with 1 Axes>"
      ]
     },
     "metadata": {},
     "output_type": "display_data"
    }
   ],
   "source": [
    "mixed_non_leaf_cats = set(non_leaf_cats) - set(leaf_parent_nodes)\n",
    "degrees_mixed = [reachable_leafs_cnts[node] for node in mixed_non_leaf_cats]\n",
    "sns.histplot(degrees_mixed)"
   ]
  },
  {
   "cell_type": "code",
   "execution_count": 22,
   "id": "b8adf856-0a24-433c-89cb-05e972286127",
   "metadata": {},
   "outputs": [
    {
     "data": {
      "text/plain": [
       "array([ 11.  ,  78.6 , 116.4 , 172.08])"
      ]
     },
     "execution_count": 22,
     "metadata": {},
     "output_type": "execute_result"
    }
   ],
   "source": [
    "np.quantile(degrees_mixed, q=[0.5, 0.9, 0.95, 0.99])"
   ]
  },
  {
   "cell_type": "markdown",
   "id": "db724de4-1814-4d7b-9c8d-2a7376fa9b78",
   "metadata": {},
   "source": [
    "# Категории нелистовых вершин\n",
    "- Есть разные кейсы почему мы не в листе -- не везде можно просто размазать вероятность\n",
    "- Иногда очевидно какая должна быть листовая вершина -- тут можно пробовать доразметку"
   ]
  },
  {
   "cell_type": "code",
   "execution_count": 23,
   "id": "4cacabc5-93dd-4e2c-b5af-c2431c9e5127",
   "metadata": {},
   "outputs": [],
   "source": [
    "cat_tree_df = pd.read_csv(CAT_PATH)"
   ]
  },
  {
   "cell_type": "code",
   "execution_count": 24,
   "id": "d01361af-e68e-4f2a-898a-b5097ac8538a",
   "metadata": {},
   "outputs": [],
   "source": [
    "df_pure_non_leaf = df_non_leaf[df_non_leaf[CAT_ID_COL].isin(pure_non_leaf_cats)]"
   ]
  },
  {
   "cell_type": "code",
   "execution_count": 25,
   "id": "15bec9e4-90fc-4ebe-8f3d-12312e6d80ea",
   "metadata": {},
   "outputs": [
    {
     "data": {
      "text/html": [
       "<div>\n",
       "<style scoped>\n",
       "    .dataframe tbody tr th:only-of-type {\n",
       "        vertical-align: middle;\n",
       "    }\n",
       "\n",
       "    .dataframe tbody tr th {\n",
       "        vertical-align: top;\n",
       "    }\n",
       "\n",
       "    .dataframe thead th {\n",
       "        text-align: right;\n",
       "    }\n",
       "</style>\n",
       "<table border=\"1\" class=\"dataframe\">\n",
       "  <thead>\n",
       "    <tr style=\"text-align: right;\">\n",
       "      <th></th>\n",
       "      <th>source_name</th>\n",
       "      <th>cat_id</th>\n",
       "    </tr>\n",
       "  </thead>\n",
       "  <tbody>\n",
       "    <tr>\n",
       "      <th>8</th>\n",
       "      <td>Ремешок для часов 18 мм универсальный металлич...</td>\n",
       "      <td>1006</td>\n",
       "    </tr>\n",
       "    <tr>\n",
       "      <th>11</th>\n",
       "      <td>Телевизор Polar P43L32T2CSM, 43\"\"(109 см), FHD</td>\n",
       "      <td>1052</td>\n",
       "    </tr>\n",
       "    <tr>\n",
       "      <th>18</th>\n",
       "      <td>Ноутбук Lenovo IdeaPad 3 15IIL05 Gray (81WE01B...</td>\n",
       "      <td>1242</td>\n",
       "    </tr>\n",
       "    <tr>\n",
       "      <th>24</th>\n",
       "      <td>Глянцевая защитная premium-плёнка для смарт-ча...</td>\n",
       "      <td>1006</td>\n",
       "    </tr>\n",
       "    <tr>\n",
       "      <th>58</th>\n",
       "      <td>Ремешок для смарт-часов Grand Price 680601204 ...</td>\n",
       "      <td>1006</td>\n",
       "    </tr>\n",
       "    <tr>\n",
       "      <th>62</th>\n",
       "      <td>Ноутбук GIGABYTE Aorus 7 Black (BKF-73KZ654SD)</td>\n",
       "      <td>1242</td>\n",
       "    </tr>\n",
       "    <tr>\n",
       "      <th>83</th>\n",
       "      <td>Фотофон виниловый, 70х90 см, для предметной съ...</td>\n",
       "      <td>1142</td>\n",
       "    </tr>\n",
       "    <tr>\n",
       "      <th>96</th>\n",
       "      <td>Защитный чехол для Redmi Watch 3 Lite, Watch 3...</td>\n",
       "      <td>1006</td>\n",
       "    </tr>\n",
       "    <tr>\n",
       "      <th>98</th>\n",
       "      <td>Ноутбук ASUS TUF Gaming FX506QM-HN050 Gray (90...</td>\n",
       "      <td>1242</td>\n",
       "    </tr>\n",
       "    <tr>\n",
       "      <th>116</th>\n",
       "      <td>Комплект фильтров TOP HOUSE TH 002SM для пылес...</td>\n",
       "      <td>1389</td>\n",
       "    </tr>\n",
       "  </tbody>\n",
       "</table>\n",
       "</div>"
      ],
      "text/plain": [
       "                                           source_name  cat_id\n",
       "8    Ремешок для часов 18 мм универсальный металлич...    1006\n",
       "11      Телевизор Polar P43L32T2CSM, 43\"\"(109 см), FHD    1052\n",
       "18   Ноутбук Lenovo IdeaPad 3 15IIL05 Gray (81WE01B...    1242\n",
       "24   Глянцевая защитная premium-плёнка для смарт-ча...    1006\n",
       "58   Ремешок для смарт-часов Grand Price 680601204 ...    1006\n",
       "62      Ноутбук GIGABYTE Aorus 7 Black (BKF-73KZ654SD)    1242\n",
       "83   Фотофон виниловый, 70х90 см, для предметной съ...    1142\n",
       "96   Защитный чехол для Redmi Watch 3 Lite, Watch 3...    1006\n",
       "98   Ноутбук ASUS TUF Gaming FX506QM-HN050 Gray (90...    1242\n",
       "116  Комплект фильтров TOP HOUSE TH 002SM для пылес...    1389"
      ]
     },
     "execution_count": 25,
     "metadata": {},
     "output_type": "execute_result"
    }
   ],
   "source": [
    "df_pure_non_leaf.head(10)"
   ]
  },
  {
   "cell_type": "markdown",
   "id": "b7e53f9c-7f50-4f3f-a2e4-99ce8eaefa59",
   "metadata": {},
   "source": [
    "## Очевидный правильный лэйбл"
   ]
  },
  {
   "cell_type": "code",
   "execution_count": 26,
   "id": "38f9ab5e-0231-4176-b9f5-38264732d659",
   "metadata": {},
   "outputs": [
    {
     "data": {
      "text/plain": [
       "source_name    Ремешок для смарт-часов Grand Price 680601204 ...\n",
       "cat_id                                                      1006\n",
       "Name: 58, dtype: object"
      ]
     },
     "execution_count": 26,
     "metadata": {},
     "output_type": "execute_result"
    }
   ],
   "source": [
    "df_pure_non_leaf.loc[58]"
   ]
  },
  {
   "cell_type": "code",
   "execution_count": 27,
   "id": "6a5dfaab-6c27-492d-be89-2e5a51876a61",
   "metadata": {},
   "outputs": [
    {
     "data": {
      "text/html": [
       "<div>\n",
       "<style scoped>\n",
       "    .dataframe tbody tr th:only-of-type {\n",
       "        vertical-align: middle;\n",
       "    }\n",
       "\n",
       "    .dataframe tbody tr th {\n",
       "        vertical-align: top;\n",
       "    }\n",
       "\n",
       "    .dataframe thead th {\n",
       "        text-align: right;\n",
       "    }\n",
       "</style>\n",
       "<table border=\"1\" class=\"dataframe\">\n",
       "  <thead>\n",
       "    <tr style=\"text-align: right;\">\n",
       "      <th></th>\n",
       "      <th>cat_id</th>\n",
       "      <th>parent_id</th>\n",
       "      <th>cat_name</th>\n",
       "    </tr>\n",
       "  </thead>\n",
       "  <tbody>\n",
       "    <tr>\n",
       "      <th>229</th>\n",
       "      <td>1006</td>\n",
       "      <td>101.0</td>\n",
       "      <td>Аксессуары для смарт-часов</td>\n",
       "    </tr>\n",
       "  </tbody>\n",
       "</table>\n",
       "</div>"
      ],
      "text/plain": [
       "     cat_id  parent_id                    cat_name\n",
       "229    1006      101.0  Аксессуары для смарт-часов"
      ]
     },
     "execution_count": 27,
     "metadata": {},
     "output_type": "execute_result"
    }
   ],
   "source": [
    "cat_tree_df[cat_tree_df[\"cat_id\"]==1006]"
   ]
  },
  {
   "cell_type": "code",
   "execution_count": 28,
   "id": "66397154-957c-4a61-b39c-b8a4e4abe693",
   "metadata": {},
   "outputs": [
    {
     "data": {
      "text/html": [
       "<div>\n",
       "<style scoped>\n",
       "    .dataframe tbody tr th:only-of-type {\n",
       "        vertical-align: middle;\n",
       "    }\n",
       "\n",
       "    .dataframe tbody tr th {\n",
       "        vertical-align: top;\n",
       "    }\n",
       "\n",
       "    .dataframe thead th {\n",
       "        text-align: right;\n",
       "    }\n",
       "</style>\n",
       "<table border=\"1\" class=\"dataframe\">\n",
       "  <thead>\n",
       "    <tr style=\"text-align: right;\">\n",
       "      <th></th>\n",
       "      <th>cat_id</th>\n",
       "      <th>parent_id</th>\n",
       "      <th>cat_name</th>\n",
       "    </tr>\n",
       "  </thead>\n",
       "  <tbody>\n",
       "    <tr>\n",
       "      <th>970</th>\n",
       "      <td>10013</td>\n",
       "      <td>1006.0</td>\n",
       "      <td>Ремешки для умных часов</td>\n",
       "    </tr>\n",
       "    <tr>\n",
       "      <th>971</th>\n",
       "      <td>10014</td>\n",
       "      <td>1006.0</td>\n",
       "      <td>Аксессуары для умных часов и браслетов</td>\n",
       "    </tr>\n",
       "  </tbody>\n",
       "</table>\n",
       "</div>"
      ],
      "text/plain": [
       "     cat_id  parent_id                                cat_name\n",
       "970   10013     1006.0                 Ремешки для умных часов\n",
       "971   10014     1006.0  Аксессуары для умных часов и браслетов"
      ]
     },
     "execution_count": 28,
     "metadata": {},
     "output_type": "execute_result"
    }
   ],
   "source": [
    "cat_tree_df[cat_tree_df[\"parent_id\"]==1006]"
   ]
  },
  {
   "cell_type": "markdown",
   "id": "b459c40f-fd65-4145-bd70-11664a9e9157",
   "metadata": {},
   "source": [
    "## Ни один из лэйблов не подходит"
   ]
  },
  {
   "cell_type": "code",
   "execution_count": 29,
   "id": "c4c8b2a3-4219-4964-be9a-579851d2f077",
   "metadata": {},
   "outputs": [
    {
     "data": {
      "text/plain": [
       "source_name    Телевизор Polar P43L32T2CSM, 43\"\"(109 см), FHD\n",
       "cat_id                                                   1052\n",
       "Name: 11, dtype: object"
      ]
     },
     "execution_count": 29,
     "metadata": {},
     "output_type": "execute_result"
    }
   ],
   "source": [
    "df_pure_non_leaf.loc[11]"
   ]
  },
  {
   "cell_type": "code",
   "execution_count": 30,
   "id": "9fba20bd-be19-49ef-9a32-5089beea2941",
   "metadata": {},
   "outputs": [
    {
     "data": {
      "text/html": [
       "<div>\n",
       "<style scoped>\n",
       "    .dataframe tbody tr th:only-of-type {\n",
       "        vertical-align: middle;\n",
       "    }\n",
       "\n",
       "    .dataframe tbody tr th {\n",
       "        vertical-align: top;\n",
       "    }\n",
       "\n",
       "    .dataframe thead th {\n",
       "        text-align: right;\n",
       "    }\n",
       "</style>\n",
       "<table border=\"1\" class=\"dataframe\">\n",
       "  <thead>\n",
       "    <tr style=\"text-align: right;\">\n",
       "      <th></th>\n",
       "      <th>cat_id</th>\n",
       "      <th>parent_id</th>\n",
       "      <th>cat_name</th>\n",
       "    </tr>\n",
       "  </thead>\n",
       "  <tbody>\n",
       "    <tr>\n",
       "      <th>250</th>\n",
       "      <td>1052</td>\n",
       "      <td>104.0</td>\n",
       "      <td>Телевизоры</td>\n",
       "    </tr>\n",
       "  </tbody>\n",
       "</table>\n",
       "</div>"
      ],
      "text/plain": [
       "     cat_id  parent_id    cat_name\n",
       "250    1052      104.0  Телевизоры"
      ]
     },
     "execution_count": 30,
     "metadata": {},
     "output_type": "execute_result"
    }
   ],
   "source": [
    "cat_tree_df[cat_tree_df[\"cat_id\"]==1052]"
   ]
  },
  {
   "cell_type": "code",
   "execution_count": 31,
   "id": "b573a09f-0d46-43f7-a0f3-47b88671f5f8",
   "metadata": {},
   "outputs": [
    {
     "data": {
      "text/html": [
       "<div>\n",
       "<style scoped>\n",
       "    .dataframe tbody tr th:only-of-type {\n",
       "        vertical-align: middle;\n",
       "    }\n",
       "\n",
       "    .dataframe tbody tr th {\n",
       "        vertical-align: top;\n",
       "    }\n",
       "\n",
       "    .dataframe thead th {\n",
       "        text-align: right;\n",
       "    }\n",
       "</style>\n",
       "<table border=\"1\" class=\"dataframe\">\n",
       "  <thead>\n",
       "    <tr style=\"text-align: right;\">\n",
       "      <th></th>\n",
       "      <th>cat_id</th>\n",
       "      <th>parent_id</th>\n",
       "      <th>cat_name</th>\n",
       "    </tr>\n",
       "  </thead>\n",
       "  <tbody>\n",
       "    <tr>\n",
       "      <th>1005</th>\n",
       "      <td>10122</td>\n",
       "      <td>1052.0</td>\n",
       "      <td>Телевизоры Xiaomi</td>\n",
       "    </tr>\n",
       "    <tr>\n",
       "      <th>1006</th>\n",
       "      <td>10127</td>\n",
       "      <td>1052.0</td>\n",
       "      <td>Телевизоры 65 дюймов</td>\n",
       "    </tr>\n",
       "  </tbody>\n",
       "</table>\n",
       "</div>"
      ],
      "text/plain": [
       "      cat_id  parent_id              cat_name\n",
       "1005   10122     1052.0     Телевизоры Xiaomi\n",
       "1006   10127     1052.0  Телевизоры 65 дюймов"
      ]
     },
     "execution_count": 31,
     "metadata": {},
     "output_type": "execute_result"
    }
   ],
   "source": [
    "cat_tree_df[cat_tree_df[\"parent_id\"]==1052]"
   ]
  },
  {
   "cell_type": "markdown",
   "id": "8263eb13-fef7-47e2-a3d2-1709f0cc246a",
   "metadata": {},
   "source": [
    "# Смешанный вариант"
   ]
  },
  {
   "cell_type": "code",
   "execution_count": 32,
   "id": "a01799dc-d0c9-4d55-9f23-b6284aa2b175",
   "metadata": {},
   "outputs": [],
   "source": [
    "df_mixed_non_leaf = df_non_leaf[df_non_leaf[CAT_ID_COL].isin(mixed_non_leaf_cats)]"
   ]
  },
  {
   "cell_type": "code",
   "execution_count": 33,
   "id": "e3358b11-ed15-466c-b2da-d23d4efaee93",
   "metadata": {},
   "outputs": [
    {
     "data": {
      "text/html": [
       "<div>\n",
       "<style scoped>\n",
       "    .dataframe tbody tr th:only-of-type {\n",
       "        vertical-align: middle;\n",
       "    }\n",
       "\n",
       "    .dataframe tbody tr th {\n",
       "        vertical-align: top;\n",
       "    }\n",
       "\n",
       "    .dataframe thead th {\n",
       "        text-align: right;\n",
       "    }\n",
       "</style>\n",
       "<table border=\"1\" class=\"dataframe\">\n",
       "  <thead>\n",
       "    <tr style=\"text-align: right;\">\n",
       "      <th></th>\n",
       "      <th>source_name</th>\n",
       "      <th>cat_id</th>\n",
       "    </tr>\n",
       "  </thead>\n",
       "  <tbody>\n",
       "    <tr>\n",
       "      <th>1</th>\n",
       "      <td>Приемное устройство М1 TDM Уютный дом в монтаж...</td>\n",
       "      <td>140</td>\n",
       "    </tr>\n",
       "    <tr>\n",
       "      <th>28</th>\n",
       "      <td>Датчик температуры и влажности Яндекс с Zigbee...</td>\n",
       "      <td>140</td>\n",
       "    </tr>\n",
       "    <tr>\n",
       "      <th>34</th>\n",
       "      <td>Беспроводной контроллер 220 Вольт, 433 МГц (уч...</td>\n",
       "      <td>140</td>\n",
       "    </tr>\n",
       "    <tr>\n",
       "      <th>115</th>\n",
       "      <td>Беспроводной выключатель GRITT Evolution 3кл. ...</td>\n",
       "      <td>140</td>\n",
       "    </tr>\n",
       "    <tr>\n",
       "      <th>120</th>\n",
       "      <td>Антенна Baltic Signal ASTRA 3G/4G MIMO (Панель...</td>\n",
       "      <td>126</td>\n",
       "    </tr>\n",
       "    <tr>\n",
       "      <th>123</th>\n",
       "      <td>Ключ для домофона RW1990 100шт перезаписываемы...</td>\n",
       "      <td>2633</td>\n",
       "    </tr>\n",
       "    <tr>\n",
       "      <th>147</th>\n",
       "      <td>Усилитель интернет сигнала Антекс 3G 4G LTE 15dBi</td>\n",
       "      <td>126</td>\n",
       "    </tr>\n",
       "    <tr>\n",
       "      <th>151</th>\n",
       "      <td>IP-телефон Fanvil A32i Black (A32I)</td>\n",
       "      <td>126</td>\n",
       "    </tr>\n",
       "    <tr>\n",
       "      <th>172</th>\n",
       "      <td>Wi-Fi адаптер Selenga беспроводной без антенны...</td>\n",
       "      <td>126</td>\n",
       "    </tr>\n",
       "    <tr>\n",
       "      <th>182</th>\n",
       "      <td>Наклейка на ноутбук виниловая 42х32 см, защитн...</td>\n",
       "      <td>1243</td>\n",
       "    </tr>\n",
       "  </tbody>\n",
       "</table>\n",
       "</div>"
      ],
      "text/plain": [
       "                                           source_name  cat_id\n",
       "1    Приемное устройство М1 TDM Уютный дом в монтаж...     140\n",
       "28   Датчик температуры и влажности Яндекс с Zigbee...     140\n",
       "34   Беспроводной контроллер 220 Вольт, 433 МГц (уч...     140\n",
       "115  Беспроводной выключатель GRITT Evolution 3кл. ...     140\n",
       "120  Антенна Baltic Signal ASTRA 3G/4G MIMO (Панель...     126\n",
       "123  Ключ для домофона RW1990 100шт перезаписываемы...    2633\n",
       "147  Усилитель интернет сигнала Антекс 3G 4G LTE 15dBi     126\n",
       "151                IP-телефон Fanvil A32i Black (A32I)     126\n",
       "172  Wi-Fi адаптер Selenga беспроводной без антенны...     126\n",
       "182  Наклейка на ноутбук виниловая 42х32 см, защитн...    1243"
      ]
     },
     "execution_count": 33,
     "metadata": {},
     "output_type": "execute_result"
    }
   ],
   "source": [
    "df_mixed_non_leaf.head(10)"
   ]
  },
  {
   "cell_type": "markdown",
   "id": "78750162-918f-4bb2-ad4b-f6a3d9194b5e",
   "metadata": {},
   "source": [
    "## Тупо не доделали разметку, есть очевидные варианты"
   ]
  },
  {
   "cell_type": "code",
   "execution_count": 34,
   "id": "6b7aae4d-4d4b-4d7e-aa1d-83706db81a11",
   "metadata": {},
   "outputs": [
    {
     "data": {
      "text/plain": [
       "source_name    Датчик температуры и влажности Яндекс с Zigbee...\n",
       "cat_id                                                       140\n",
       "Name: 28, dtype: object"
      ]
     },
     "execution_count": 34,
     "metadata": {},
     "output_type": "execute_result"
    }
   ],
   "source": [
    "df_mixed_non_leaf.loc[28]"
   ]
  },
  {
   "cell_type": "code",
   "execution_count": 35,
   "id": "9f1abdcb-47e5-4a41-8dcd-fd96552a0c30",
   "metadata": {},
   "outputs": [
    {
     "data": {
      "text/html": [
       "<div>\n",
       "<style scoped>\n",
       "    .dataframe tbody tr th:only-of-type {\n",
       "        vertical-align: middle;\n",
       "    }\n",
       "\n",
       "    .dataframe tbody tr th {\n",
       "        vertical-align: top;\n",
       "    }\n",
       "\n",
       "    .dataframe thead th {\n",
       "        text-align: right;\n",
       "    }\n",
       "</style>\n",
       "<table border=\"1\" class=\"dataframe\">\n",
       "  <thead>\n",
       "    <tr style=\"text-align: right;\">\n",
       "      <th></th>\n",
       "      <th>cat_id</th>\n",
       "      <th>parent_id</th>\n",
       "      <th>cat_name</th>\n",
       "    </tr>\n",
       "  </thead>\n",
       "  <tbody>\n",
       "    <tr>\n",
       "      <th>61</th>\n",
       "      <td>140</td>\n",
       "      <td>3.0</td>\n",
       "      <td>Умный дом</td>\n",
       "    </tr>\n",
       "  </tbody>\n",
       "</table>\n",
       "</div>"
      ],
      "text/plain": [
       "    cat_id  parent_id   cat_name\n",
       "61     140        3.0  Умный дом"
      ]
     },
     "execution_count": 35,
     "metadata": {},
     "output_type": "execute_result"
    }
   ],
   "source": [
    "cat_tree_df[cat_tree_df[\"cat_id\"]==140]"
   ]
  },
  {
   "cell_type": "code",
   "execution_count": 36,
   "id": "932db0fb-c3a4-4c6f-87d4-6170811a80ce",
   "metadata": {},
   "outputs": [
    {
     "data": {
      "text/html": [
       "<div>\n",
       "<style scoped>\n",
       "    .dataframe tbody tr th:only-of-type {\n",
       "        vertical-align: middle;\n",
       "    }\n",
       "\n",
       "    .dataframe tbody tr th {\n",
       "        vertical-align: top;\n",
       "    }\n",
       "\n",
       "    .dataframe thead th {\n",
       "        text-align: right;\n",
       "    }\n",
       "</style>\n",
       "<table border=\"1\" class=\"dataframe\">\n",
       "  <thead>\n",
       "    <tr style=\"text-align: right;\">\n",
       "      <th></th>\n",
       "      <th>cat_id</th>\n",
       "      <th>parent_id</th>\n",
       "      <th>cat_name</th>\n",
       "    </tr>\n",
       "  </thead>\n",
       "  <tbody>\n",
       "    <tr>\n",
       "      <th>417</th>\n",
       "      <td>1433</td>\n",
       "      <td>140.0</td>\n",
       "      <td>Бытовая техника</td>\n",
       "    </tr>\n",
       "    <tr>\n",
       "      <th>418</th>\n",
       "      <td>1434</td>\n",
       "      <td>140.0</td>\n",
       "      <td>Климат</td>\n",
       "    </tr>\n",
       "    <tr>\n",
       "      <th>419</th>\n",
       "      <td>1438</td>\n",
       "      <td>140.0</td>\n",
       "      <td>Безопасность</td>\n",
       "    </tr>\n",
       "    <tr>\n",
       "      <th>960</th>\n",
       "      <td>3683</td>\n",
       "      <td>140.0</td>\n",
       "      <td>Прочая техника для умного дома</td>\n",
       "    </tr>\n",
       "  </tbody>\n",
       "</table>\n",
       "</div>"
      ],
      "text/plain": [
       "     cat_id  parent_id                        cat_name\n",
       "417    1433      140.0                 Бытовая техника\n",
       "418    1434      140.0                          Климат\n",
       "419    1438      140.0                    Безопасность\n",
       "960    3683      140.0  Прочая техника для умного дома"
      ]
     },
     "execution_count": 36,
     "metadata": {},
     "output_type": "execute_result"
    }
   ],
   "source": [
    "cat_tree_df[cat_tree_df[\"parent_id\"]==140]"
   ]
  },
  {
   "cell_type": "code",
   "execution_count": null,
   "id": "77f95e4b-3e81-434f-a047-38e4485f0db9",
   "metadata": {},
   "outputs": [],
   "source": []
  }
 ],
 "metadata": {
  "kernelspec": {
   "display_name": "datafusion-labelcraft",
   "language": "python",
   "name": "datafusion-labelcraft"
  },
  "language_info": {
   "codemirror_mode": {
    "name": "ipython",
    "version": 3
   },
   "file_extension": ".py",
   "mimetype": "text/x-python",
   "name": "python",
   "nbconvert_exporter": "python",
   "pygments_lexer": "ipython3",
   "version": "3.11.11"
  }
 },
 "nbformat": 4,
 "nbformat_minor": 5
}

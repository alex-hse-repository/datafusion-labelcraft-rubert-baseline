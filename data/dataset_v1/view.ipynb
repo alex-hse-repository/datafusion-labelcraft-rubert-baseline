{
 "cells": [
  {
   "cell_type": "code",
   "execution_count": 1,
   "id": "0a7bd1e3-85d0-49fd-afa9-2643197d06e5",
   "metadata": {},
   "outputs": [],
   "source": [
    "import pandas as pd\n",
    "\n",
    "EXPERIMENTS_DATASET_PATH = \"dataset_for_experiments.parquet\"\n",
    "SUBMIT_DATASET_PATH = \"submit_dataset.parquet\""
   ]
  },
  {
   "cell_type": "code",
   "execution_count": 2,
   "id": "4154bd8a-80f2-40e1-92d6-268295b706fa",
   "metadata": {},
   "outputs": [
    {
     "data": {
      "text/html": [
       "<div>\n",
       "<style scoped>\n",
       "    .dataframe tbody tr th:only-of-type {\n",
       "        vertical-align: middle;\n",
       "    }\n",
       "\n",
       "    .dataframe tbody tr th {\n",
       "        vertical-align: top;\n",
       "    }\n",
       "\n",
       "    .dataframe thead th {\n",
       "        text-align: right;\n",
       "    }\n",
       "</style>\n",
       "<table border=\"1\" class=\"dataframe\">\n",
       "  <thead>\n",
       "    <tr style=\"text-align: right;\">\n",
       "      <th></th>\n",
       "      <th>source_name</th>\n",
       "      <th>cat_id</th>\n",
       "      <th>part_type</th>\n",
       "      <th>part</th>\n",
       "    </tr>\n",
       "  </thead>\n",
       "  <tbody>\n",
       "    <tr>\n",
       "      <th>0</th>\n",
       "      <td>Сетевой кабель, патч корд Rj45 5 метров CAT5E,...</td>\n",
       "      <td>10421</td>\n",
       "      <td>is</td>\n",
       "      <td>train</td>\n",
       "    </tr>\n",
       "    <tr>\n",
       "      <th>1</th>\n",
       "      <td>Фильтр-заглушка сливного насоса стиральной маш...</td>\n",
       "      <td>10501</td>\n",
       "      <td>is</td>\n",
       "      <td>train</td>\n",
       "    </tr>\n",
       "    <tr>\n",
       "      <th>2</th>\n",
       "      <td>Умные часы CheckME Smart CMSKC06SS с калькулят...</td>\n",
       "      <td>1003</td>\n",
       "      <td>is</td>\n",
       "      <td>train</td>\n",
       "    </tr>\n",
       "    <tr>\n",
       "      <th>3</th>\n",
       "      <td>Силиконовый чехол Mcover для беспроводных науш...</td>\n",
       "      <td>1081</td>\n",
       "      <td>is</td>\n",
       "      <td>train</td>\n",
       "    </tr>\n",
       "    <tr>\n",
       "      <th>4</th>\n",
       "      <td>Зарядное устройство Panasonic Basic BQ-CC51 + ...</td>\n",
       "      <td>2337</td>\n",
       "      <td>is</td>\n",
       "      <td>train</td>\n",
       "    </tr>\n",
       "  </tbody>\n",
       "</table>\n",
       "</div>"
      ],
      "text/plain": [
       "                                         source_name  cat_id part_type   part\n",
       "0  Сетевой кабель, патч корд Rj45 5 метров CAT5E,...   10421        is  train\n",
       "1  Фильтр-заглушка сливного насоса стиральной маш...   10501        is  train\n",
       "2  Умные часы CheckME Smart CMSKC06SS с калькулят...    1003        is  train\n",
       "3  Силиконовый чехол Mcover для беспроводных науш...    1081        is  train\n",
       "4  Зарядное устройство Panasonic Basic BQ-CC51 + ...    2337        is  train"
      ]
     },
     "execution_count": 2,
     "metadata": {},
     "output_type": "execute_result"
    }
   ],
   "source": [
    "df_experimnets = pd.read_parquet(EXPERIMENTS_DATASET_PATH)\n",
    "df_experimnets.head()"
   ]
  },
  {
   "cell_type": "code",
   "execution_count": 3,
   "id": "b21f64ab-76ea-4123-ac92-8ac00fcc378e",
   "metadata": {},
   "outputs": [
    {
     "data": {
      "text/plain": [
       "part   part_type\n",
       "train  is           491736\n",
       "val    oos           68342\n",
       "       is            54638\n",
       "Name: count, dtype: int64"
      ]
     },
     "execution_count": 3,
     "metadata": {},
     "output_type": "execute_result"
    }
   ],
   "source": [
    "df_experimnets[[\"part\", \"part_type\"]].value_counts()"
   ]
  },
  {
   "cell_type": "code",
   "execution_count": 4,
   "id": "d29c2b72-4995-414d-ae33-cd38d080851a",
   "metadata": {},
   "outputs": [
    {
     "data": {
      "text/html": [
       "<div>\n",
       "<style scoped>\n",
       "    .dataframe tbody tr th:only-of-type {\n",
       "        vertical-align: middle;\n",
       "    }\n",
       "\n",
       "    .dataframe tbody tr th {\n",
       "        vertical-align: top;\n",
       "    }\n",
       "\n",
       "    .dataframe thead th {\n",
       "        text-align: right;\n",
       "    }\n",
       "</style>\n",
       "<table border=\"1\" class=\"dataframe\">\n",
       "  <thead>\n",
       "    <tr style=\"text-align: right;\">\n",
       "      <th></th>\n",
       "      <th>source_name</th>\n",
       "      <th>cat_id</th>\n",
       "    </tr>\n",
       "  </thead>\n",
       "  <tbody>\n",
       "    <tr>\n",
       "      <th>0</th>\n",
       "      <td>Бойник барабана для стиральной машины Candy, V...</td>\n",
       "      <td>10501</td>\n",
       "    </tr>\n",
       "    <tr>\n",
       "      <th>1</th>\n",
       "      <td>Духовой шкаф электрический Darina 1U5 BDE 112 ...</td>\n",
       "      <td>1397</td>\n",
       "    </tr>\n",
       "    <tr>\n",
       "      <th>2</th>\n",
       "      <td>Коврик для мыши 40*70 см Genshin Impact Desk M...</td>\n",
       "      <td>3645</td>\n",
       "    </tr>\n",
       "    <tr>\n",
       "      <th>3</th>\n",
       "      <td>Ripo Кабель для интернет-соединения, серый</td>\n",
       "      <td>10421</td>\n",
       "    </tr>\n",
       "    <tr>\n",
       "      <th>4</th>\n",
       "      <td>Аккумулятор для ноутбука Asus (B31N1535) UX310...</td>\n",
       "      <td>1370</td>\n",
       "    </tr>\n",
       "  </tbody>\n",
       "</table>\n",
       "</div>"
      ],
      "text/plain": [
       "                                         source_name  cat_id\n",
       "0  Бойник барабана для стиральной машины Candy, V...   10501\n",
       "1  Духовой шкаф электрический Darina 1U5 BDE 112 ...    1397\n",
       "2  Коврик для мыши 40*70 см Genshin Impact Desk M...    3645\n",
       "3         Ripo Кабель для интернет-соединения, серый   10421\n",
       "4  Аккумулятор для ноутбука Asus (B31N1535) UX310...    1370"
      ]
     },
     "execution_count": 4,
     "metadata": {},
     "output_type": "execute_result"
    }
   ],
   "source": [
    "df_submit = pd.read_parquet(SUBMIT_DATASET_PATH)\n",
    "df_submit.head()"
   ]
  },
  {
   "cell_type": "code",
   "execution_count": 5,
   "id": "a4cf1679-18cb-4621-b9bb-4f26a51f6609",
   "metadata": {},
   "outputs": [
    {
     "data": {
      "text/plain": [
       "(614901, 2)"
      ]
     },
     "execution_count": 5,
     "metadata": {},
     "output_type": "execute_result"
    }
   ],
   "source": [
    "df_submit.shape"
   ]
  }
 ],
 "metadata": {
  "kernelspec": {
   "display_name": "datafusion-labelcraft",
   "language": "python",
   "name": "datafusion-labelcraft"
  },
  "language_info": {
   "codemirror_mode": {
    "name": "ipython",
    "version": 3
   },
   "file_extension": ".py",
   "mimetype": "text/x-python",
   "name": "python",
   "nbconvert_exporter": "python",
   "pygments_lexer": "ipython3",
   "version": "3.11.11"
  }
 },
 "nbformat": 4,
 "nbformat_minor": 5
}
